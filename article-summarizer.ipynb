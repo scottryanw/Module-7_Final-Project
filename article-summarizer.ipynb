{
 "cells": [
  {
   "cell_type": "markdown",
   "metadata": {},
   "source": [
    "# Web Mining and Applied NLP (44-620)\n",
    "\n",
    "## Final Project: Article Summarizer\n",
    "\n",
    "### Student Name: Scott Williamson \n",
    "\n",
    "### Date: 12/5/2024\n"
   ]
  },
  {
   "cell_type": "code",
   "execution_count": 20,
   "metadata": {},
   "outputs": [],
   "source": [
    "import requests\n",
    "import pickle\n",
    "import spacy\n",
    "from collections import Counter\n",
    "import matplotlib.pyplot as plt\n",
    "import numpy as np"
   ]
  },
  {
   "cell_type": "markdown",
   "metadata": {},
   "source": [
    "1. Find on the internet an article or blog post about a topic that interests you and you are able to get the text for using the technologies we have applied in the course.  Get the html for the article and store it in a file (which you must submit with your project)"
   ]
  },
  {
   "cell_type": "code",
   "execution_count": 21,
   "metadata": {},
   "outputs": [
    {
     "name": "stdout",
     "output_type": "stream",
     "text": [
      "Article HTML successfully saved to article_html.pkl\n"
     ]
    }
   ],
   "source": [
    "import requests\n",
    "from bs4 import BeautifulSoup\n",
    "import pickle\n",
    "\n",
    "# URL of the webpage to scrape\n",
    "url = \"https://www.9news.com/article/tech/science/environment/oil-gas-regulators-investigate-manipulated-environmental-tests-colorado/73-50ced691-757e-438d-9122-0079bd89398e\"\n",
    "\n",
    "# Send a GET request to fetch the raw HTML content\n",
    "response = requests.get(url)\n",
    "\n",
    "if response.status_code == 200:\n",
    "    # Parse the HTML content with BeautifulSoup\n",
    "    soup = BeautifulSoup(response.content, 'html.parser')\n",
    "    \n",
    "    # Extract the article HTML\n",
    "    article_html = soup.find('article')  \n",
    "    \n",
    "    # Check if the article was found\n",
    "    if article_html:\n",
    "        # Serialize the HTML content and save it to a .pkl file\n",
    "        with open(\"article_html.pkl\", \"wb\") as file:\n",
    "            pickle.dump(str(article_html), file)\n",
    "        print(\"Article HTML successfully saved to article_html.pkl\")\n",
    "    else:\n",
    "        print(\"Article tag not found in the HTML.\")\n",
    "else:\n",
    "    print(f\"Failed to fetch the webpage. Status code: {response.status_code}\")"
   ]
  },
  {
   "cell_type": "markdown",
   "metadata": {},
   "source": [
    "2. Read in your article's html source from the file you created in question 1 and do sentiment analysis on the article/post's text (use `.get_text()`).  Print the polarity score with an appropriate label.  Additionally print the number of sentences in the original article (with an appropriate label)"
   ]
  },
  {
   "cell_type": "code",
   "execution_count": 22,
   "metadata": {},
   "outputs": [
    {
     "name": "stdout",
     "output_type": "stream",
     "text": [
      "Polarity Score: 0.023330142080142065\n",
      "The article has a more positive connotation.\n"
     ]
    },
    {
     "name": "stderr",
     "output_type": "stream",
     "text": [
      "[nltk_data] Downloading package punkt to\n",
      "[nltk_data]     /Users/scottwilliamson/nltk_data...\n",
      "[nltk_data]   Package punkt is already up-to-date!\n"
     ]
    },
    {
     "name": "stdout",
     "output_type": "stream",
     "text": [
      "Number of sentences in the article: 43\n"
     ]
    }
   ],
   "source": [
    "import pickle\n",
    "from bs4 import BeautifulSoup\n",
    "from textblob import TextBlob\n",
    "import nltk\n",
    "nltk.download('punkt')\n",
    "\n",
    "file_path = \"article_html.pkl\"\n",
    "\n",
    "# Load the HTML content\n",
    "with open(file_path, \"rb\") as file:\n",
    "    article_html = pickle.load(file)\n",
    "\n",
    "# Parse with BeautifulSoup and print the text\n",
    "soup = BeautifulSoup(article_html, 'html.parser')\n",
    "text = soup.get_text()\n",
    "\n",
    "# Perform sentiment analysis with TextBlob\n",
    "blob = TextBlob(text)\n",
    "polarity = blob.sentiment.polarity\n",
    "print(\"Polarity Score:\", polarity)\n",
    "\n",
    "# Analyze sentiment\n",
    "if polarity > 0:\n",
    "    print(\"The article has a more positive connotation.\")\n",
    "elif polarity < 0:\n",
    "    print(\"The article has a more negative connotation.\")\n",
    "else:\n",
    "    print(\"The article has a neutral connotation.\")\n",
    "\n",
    "# Count the number of sentences in the article\n",
    "import spacy\n",
    "# Load the spaCy model for English\n",
    "nlp = spacy.load(\"en_core_web_sm\")\n",
    "\n",
    "# Process the text with spaCy\n",
    "doc = nlp(text)\n",
    "\n",
    "# Count the number of sentences\n",
    "num_sentences = len(list(doc.sents))\n",
    "\n",
    "print(f\"Number of sentences in the article: {num_sentences}\")"
   ]
  },
  {
   "cell_type": "markdown",
   "metadata": {},
   "source": [
    "3. Load the article text into a trained `spaCy` pipeline, and determine the 5 most frequent tokens (converted to lower case).  Print the common tokens with an appropriate label.  Additionally, print the tokens their frequencies (with appropriate labels)"
   ]
  },
  {
   "cell_type": "code",
   "execution_count": 23,
   "metadata": {},
   "outputs": [
    {
     "name": "stdout",
     "output_type": "stream",
     "text": [
      "The 5 most frequent tokens (converted to lowercase):\n",
      "Token: '\n",
      "\n",
      "' - Frequency: 24\n",
      "Token: 'data' - Frequency: 14\n",
      "Token: 'said' - Frequency: 14\n",
      "Token: 'oil' - Frequency: 11\n",
      "Token: 'gas' - Frequency: 11\n"
     ]
    }
   ],
   "source": [
    "import spacy\n",
    "from collections import Counter\n",
    "\n",
    "# Load the spaCy model for English\n",
    "nlp = spacy.load(\"en_core_web_sm\")\n",
    "\n",
    "# Load the article HTML content (from the previous code or file)\n",
    "with open(\"article_html.pkl\", \"rb\") as file:\n",
    "    article_html = pickle.load(file)\n",
    "\n",
    "# Parse with BeautifulSoup and extract text\n",
    "from bs4 import BeautifulSoup\n",
    "soup = BeautifulSoup(article_html, 'html.parser')\n",
    "text = soup.get_text()\n",
    "\n",
    "# Process the text with spaCy pipeline\n",
    "doc = nlp(text)\n",
    "\n",
    "# Create a list of tokens, converted to lowercase (excluding punctuation and stopwords)\n",
    "tokens = [token.text.lower() for token in doc if not token.is_punct and not token.is_stop]\n",
    "\n",
    "# Calculate the frequency of each token\n",
    "token_frequencies = Counter(tokens)\n",
    "\n",
    "# Get the 5 most common tokens and their frequencies\n",
    "common_tokens = token_frequencies.most_common(5)\n",
    "\n",
    "# Print the common tokens with frequencies\n",
    "print(\"The 5 most frequent tokens (converted to lowercase):\")\n",
    "for token, freq in common_tokens:\n",
    "    print(f\"Token: '{token}' - Frequency: {freq}\")\n"
   ]
  },
  {
   "cell_type": "markdown",
   "metadata": {},
   "source": [
    "4. Load the article text into a trained `spaCy` pipeline, and determine the 5 most frequent lemmas (converted to lower case).  Print the common lemmas with an appropriate label.  Additionally, print the lemmas with their frequencies (with appropriate labels)."
   ]
  },
  {
   "cell_type": "code",
   "execution_count": 24,
   "metadata": {},
   "outputs": [
    {
     "name": "stdout",
     "output_type": "stream",
     "text": [
      "The 5 most frequent lemmas (converted to lowercase):\n",
      "Lemma: '\n",
      "\n",
      "' - Frequency: 24\n",
      "Lemma: 'datum' - Frequency: 14\n",
      "Lemma: 'say' - Frequency: 14\n",
      "Lemma: 'oil' - Frequency: 11\n",
      "Lemma: 'gas' - Frequency: 11\n"
     ]
    }
   ],
   "source": [
    "import spacy\n",
    "from collections import Counter\n",
    "import pickle\n",
    "from bs4 import BeautifulSoup\n",
    "\n",
    "# Load the spaCy model for English\n",
    "nlp = spacy.load(\"en_core_web_sm\")\n",
    "\n",
    "# Load the article HTML content\n",
    "file_path = \"article_html.pkl\"\n",
    "with open(file_path, \"rb\") as file:\n",
    "    article_html = pickle.load(file)\n",
    "\n",
    "# Parse with BeautifulSoup and extract text\n",
    "soup = BeautifulSoup(article_html, 'html.parser')\n",
    "text = soup.get_text()\n",
    "\n",
    "# Process the text with spaCy pipeline\n",
    "doc = nlp(text)\n",
    "\n",
    "# Create a list of lemmas (converted to lowercase), excluding punctuation and stopwords\n",
    "lemmas = [token.lemma_.lower() for token in doc if not token.is_punct and not token.is_stop]\n",
    "\n",
    "# Calculate the frequency of each lemma\n",
    "lemma_frequencies = Counter(lemmas)\n",
    "\n",
    "# Get the 5 most common lemmas and their frequencies\n",
    "common_lemmas = lemma_frequencies.most_common(5)\n",
    "\n",
    "# Print the common lemmas with frequencies\n",
    "print(\"The 5 most frequent lemmas (converted to lowercase):\")\n",
    "for lemma, freq in common_lemmas:\n",
    "    print(f\"Lemma: '{lemma}' - Frequency: {freq}\")\n"
   ]
  },
  {
   "cell_type": "markdown",
   "metadata": {},
   "source": [
    "5. Make a list containing the scores (using tokens) of every sentence in the article, and plot a histogram with appropriate titles and axis labels of the scores. From your histogram, what seems to be the most common range of scores (put the answer in a comment after your code)?"
   ]
  },
  {
   "cell_type": "code",
   "execution_count": 25,
   "metadata": {},
   "outputs": [
    {
     "data": {
      "image/png": "[encoded data removed]",
      "text/plain": [
       "<Figure size 1000x600 with 1 Axes>"
      ]
     },
     "metadata": {},
     "output_type": "display_data"
    }
   ],
   "source": [
    "import spacy\n",
    "from textblob import TextBlob\n",
    "import matplotlib.pyplot as plt\n",
    "import pickle\n",
    "from bs4 import BeautifulSoup\n",
    "\n",
    "# Load the spaCy model for English\n",
    "nlp = spacy.load(\"en_core_web_sm\")\n",
    "\n",
    "# Load the article HTML content\n",
    "file_path = \"article_html.pkl\"\n",
    "with open(file_path, \"rb\") as file:\n",
    "    article_html = pickle.load(file)\n",
    "\n",
    "# Parse with BeautifulSoup and extract text\n",
    "soup = BeautifulSoup(article_html, 'html.parser')\n",
    "text = soup.get_text()\n",
    "\n",
    "# Process the text with spaCy pipeline\n",
    "doc = nlp(text)\n",
    "\n",
    "# List to store the sentiment scores of each sentence\n",
    "sentence_scores = []\n",
    "\n",
    "# Iterate over each sentence in the text\n",
    "for sent in doc.sents:\n",
    "    # Get the sentiment polarity score using TextBlob\n",
    "    blob = TextBlob(sent.text)\n",
    "    sentence_scores.append(blob.sentiment.polarity)\n",
    "\n",
    "# Plot a histogram of sentiment scores\n",
    "plt.figure(figsize=(10, 6))\n",
    "plt.hist(sentence_scores, bins=20, edgecolor='black')\n",
    "plt.title(\"Distribution of Sentence Sentiment Scores\")\n",
    "plt.xlabel(\"Sentiment Score\")\n",
    "plt.ylabel(\"Frequency\")\n",
    "plt.grid(True)\n",
    "plt.show()"
   ]
  },
  {
   "cell_type": "markdown",
   "metadata": {},
   "source": [
    "The most common range of scores is overwhelmingly slightly above zero. "
   ]
  },
  {
   "cell_type": "markdown",
   "metadata": {},
   "source": [
    "6. Make a list containing the scores (using lemmas) of every sentence in the article, and plot a histogram with appropriate titles and axis labels of the scores.  From your histogram, what seems to be the most common range of scores (put the answer in a comment after your code)?"
   ]
  },
  {
   "cell_type": "code",
   "execution_count": 26,
   "metadata": {},
   "outputs": [
    {
     "data": {
      "image/png": "[encoded data removed]",
      "text/plain": [
       "<Figure size 1000x600 with 1 Axes>"
      ]
     },
     "metadata": {},
     "output_type": "display_data"
    }
   ],
   "source": [
    "import spacy\n",
    "from textblob import TextBlob\n",
    "import matplotlib.pyplot as plt\n",
    "import pickle\n",
    "from bs4 import BeautifulSoup\n",
    "\n",
    "# Load the spaCy model for English\n",
    "nlp = spacy.load(\"en_core_web_sm\")\n",
    "\n",
    "# Load the article HTML content\n",
    "file_path = \"article_html.pkl\"\n",
    "with open(file_path, \"rb\") as file:\n",
    "    article_html = pickle.load(file)\n",
    "\n",
    "# Parse with BeautifulSoup and extract text\n",
    "soup = BeautifulSoup(article_html, 'html.parser')\n",
    "text = soup.get_text()\n",
    "\n",
    "# Process the text with spaCy pipeline\n",
    "doc = nlp(text)\n",
    "\n",
    "# List to store the sentiment scores of each sentence\n",
    "sentence_scores_lemmas = []\n",
    "\n",
    "# Iterate over each sentence in the text\n",
    "for sent in doc.sents:\n",
    "    # Lemmatize each token in the sentence and join them\n",
    "    lemmatized_sentence = ' '.join([token.lemma_ for token in sent if not token.is_punct and not token.is_stop])\n",
    "    \n",
    "    # Get the sentiment polarity score using TextBlob\n",
    "    blob = TextBlob(lemmatized_sentence)\n",
    "    sentence_scores_lemmas.append(blob.sentiment.polarity)\n",
    "\n",
    "# Plot a histogram of sentiment scores based on lemmas\n",
    "plt.figure(figsize=(10, 6))\n",
    "plt.hist(sentence_scores_lemmas, bins=20, edgecolor='black')\n",
    "plt.title(\"Distribution of Sentence Sentiment Scores (Lemmas)\")\n",
    "plt.xlabel(\"Sentiment Score\")\n",
    "plt.ylabel(\"Frequency\")\n",
    "plt.grid(True)\n",
    "plt.show()\n"
   ]
  },
  {
   "cell_type": "markdown",
   "metadata": {},
   "source": [
    "Same as the previous chart, the most common is the first bin above zero. "
   ]
  },
  {
   "cell_type": "markdown",
   "metadata": {},
   "source": [
    "7. Using the histograms from questions 5 and 6, decide a \"cutoff\" score for tokens and lemmas such that fewer than half the sentences would have a score greater than the cutoff score.  Record the scores in this Markdown cell\n",
    "\n",
    "* Cutoff Score (tokens): 0.0\n",
    "* Cutoff Score (lemmas): 0.0\n",
    "\n",
    "Feel free to change these scores as you generate your summaries.  Ideally, we're shooting for at least 6 sentences for our summary, but don't want more than 10 (these numbers are rough estimates; they depend on the length of your article)."
   ]
  },
  {
   "cell_type": "markdown",
   "metadata": {},
   "source": [
    "8. Create a summary of the article by going through every sentence in the article and adding it to an (initially) empty list if its score (based on tokens) is greater than the cutoff score you identified in question 7.  If your loop variable is named `sent`, you may find it easier to add `sent.text.strip()` to your list of sentences.  Print the summary (I would cleanly generate the summary text by `join`ing the strings in your list together with a space (`' '.join(sentence_list)`)."
   ]
  },
  {
   "cell_type": "code",
   "execution_count": 27,
   "metadata": {},
   "outputs": [
    {
     "name": "stdout",
     "output_type": "stream",
     "text": [
      "Summary:\n",
      "More Videos\n",
      "\n",
      "\n",
      "\n",
      "\n",
      "\n",
      "\n",
      "\n",
      "\n",
      "\n",
      "Next up in 5\n",
      "Example video title will go here for this video\n",
      "\n",
      "\n",
      "\n",
      "\n",
      "\n",
      "\n",
      "\n",
      "\n",
      "\n",
      "\n",
      "\n",
      "\n",
      "\n",
      "\n",
      "Next up in 5\n",
      "Example video title will go here for this video\n",
      "\n",
      "\n",
      "\n",
      "\n",
      "\n",
      "\n",
      "\n",
      "\n",
      "\n",
      "\n",
      "\n",
      "\n",
      "\n",
      "\n",
      "\n",
      "\n",
      "\n",
      "\n",
      "\n",
      "\n",
      "\n",
      "\n",
      "\n",
      "\n",
      "\n",
      "\n",
      "\n",
      "\n",
      "\n",
      "\n",
      "\n",
      "\n",
      "\n",
      "\n",
      "\n",
      "\n",
      "\n",
      "\n",
      "\n",
      "\n",
      "\n",
      "\n",
      "\n",
      "\n",
      "\n",
      "\n",
      "\n",
      "\n",
      "\n",
      "\n",
      "\n",
      "\n",
      "\n",
      "\n",
      "\n",
      "\n",
      "\n",
      "Author: Marshall Zelinger\n",
      "                \n",
      "\n",
      "Published: 7:48 PM MST December 2, 2024\n",
      "                \n",
      "\n",
      "Updated: 7:48 PM MST December 2, 2024\n",
      "                \n",
      "\n",
      "\n",
      "\n",
      "\n",
      "\n",
      " \n",
      "\n",
      "\n",
      "\n",
      "WELD COUNTY, Colo. — Transparency and accountability. She detailed the basics of what ECMC knows. “We do not have information that the operators were aware of the falsification.” For oil and gas sites that are done extracting oil and gas, the state requires certain reporting as they are plugged and reclaimed. “I recognize that 350 is a large number,\" Murphy said. “I was made aware of this Monday afternoon,” Jason Maxey, Weld County’s Oil and Gas Energy Department Director told 9NEWS. “July probably wouldn't have been appropriate when the ECMC first found out. I'm sure they had some investigation to do as well, but I sure would have hoped it would have been earlier than just the day before.” \n",
      "\n",
      "\n",
      "\n",
      "\n",
      "\n",
      "\n",
      "\n",
      "\n",
      "\n",
      "\n",
      "Maxey and Weld County do not require the same type of reporting that the state requires when an oil and gas site closes. \"I would have hoped that there would have been a little bit more efficient sharing at this point.\" “The range of falsified data is broad,” Murphy said. Others are much more problematic, i.e., those related to the reduction of benzene or TPH or total petroleum hydrocarbon values.” “What strikes me, amongst many other things, but is how much we do rely on the accuracy and validity of the information in the data that is submitted to us,” Commissioner Trisha Oeth said.\n"
     ]
    }
   ],
   "source": [
    "import spacy\n",
    "from textblob import TextBlob\n",
    "import pickle\n",
    "from bs4 import BeautifulSoup\n",
    "\n",
    "# Load the spaCy model for English\n",
    "nlp = spacy.load(\"en_core_web_sm\")\n",
    "\n",
    "# Load the article HTML content\n",
    "file_path = \"article_html.pkl\"\n",
    "with open(file_path, \"rb\") as file:\n",
    "    article_html = pickle.load(file)\n",
    "\n",
    "# Parse with BeautifulSoup and extract text\n",
    "soup = BeautifulSoup(article_html, 'html.parser')\n",
    "text = soup.get_text()\n",
    "\n",
    "# Process the text with spaCy pipeline\n",
    "doc = nlp(text)\n",
    "\n",
    "# Define the cutoff score based on your requirement\n",
    "cutoff_score_tokens = 0.0\n",
    "\n",
    "# List to store sentences for the summary\n",
    "sentence_list = []\n",
    "\n",
    "# Iterate over each sentence in the text\n",
    "for sent in doc.sents:\n",
    "    # Get the sentiment polarity score using TextBlob for tokens\n",
    "    blob = TextBlob(sent.text)\n",
    "    score = blob.sentiment.polarity\n",
    "    \n",
    "    # If the score is greater than the cutoff score, add it to the summary\n",
    "    if score > cutoff_score_tokens:\n",
    "        sentence_list.append(sent.text.strip())\n",
    "\n",
    "# Join the sentences together to form the summary\n",
    "summary = ' '.join(sentence_list)\n",
    "\n",
    "# Print the summary\n",
    "print(\"Summary:\")\n",
    "print(summary)\n"
   ]
  },
  {
   "cell_type": "markdown",
   "metadata": {},
   "source": [
    "9. Print the polarity score of your summary you generated with the token scores (with an appropriate label). Additionally, print the number of sentences in the summarized article."
   ]
  },
  {
   "cell_type": "code",
   "execution_count": 28,
   "metadata": {},
   "outputs": [
    {
     "name": "stdout",
     "output_type": "stream",
     "text": [
      "\n",
      "Polarity Score of the Summary (based on tokens): 0.2186335403726708\n",
      "Number of sentences in the summarized article: 12\n"
     ]
    }
   ],
   "source": [
    "import spacy\n",
    "from textblob import TextBlob\n",
    "import pickle\n",
    "from bs4 import BeautifulSoup\n",
    "\n",
    "# Load the spaCy model for English\n",
    "nlp = spacy.load(\"en_core_web_sm\")\n",
    "\n",
    "# Load the article HTML content\n",
    "file_path = \"article_html.pkl\"\n",
    "with open(file_path, \"rb\") as file:\n",
    "    article_html = pickle.load(file)\n",
    "\n",
    "# Parse with BeautifulSoup and extract text\n",
    "soup = BeautifulSoup(article_html, 'html.parser')\n",
    "text = soup.get_text()\n",
    "\n",
    "# Process the text with spaCy pipeline\n",
    "doc = nlp(text)\n",
    "\n",
    "# Define the cutoff score based on your requirement\n",
    "cutoff_score_tokens = 0.0\n",
    "\n",
    "# List to store sentences for the summary\n",
    "sentence_list = []\n",
    "\n",
    "# Iterate over each sentence in the text\n",
    "for sent in doc.sents:\n",
    "    # Get the sentiment polarity score using TextBlob for tokens\n",
    "    blob = TextBlob(sent.text)\n",
    "    score = blob.sentiment.polarity\n",
    "    \n",
    "    # If the score is greater than the cutoff score, add it to the summary\n",
    "    if score > cutoff_score_tokens:\n",
    "        sentence_list.append(sent.text.strip())\n",
    "\n",
    "# Join the sentences together to form the summary\n",
    "summary = ' '.join(sentence_list)\n",
    "\n",
    "# Calculate the polarity score of the summary using TextBlob (based on tokens)\n",
    "summary_blob = TextBlob(summary)\n",
    "summary_polarity = summary_blob.sentiment.polarity\n",
    "\n",
    "# Print the polarity score of the summary (based on token sentiment scores)\n",
    "print(\"\\nPolarity Score of the Summary (based on tokens):\", summary_polarity)\n",
    "\n",
    "# Count the number of sentences in the summary\n",
    "summary_sentences = len(sentence_list)\n",
    "\n",
    "# Print the number of sentences in the summarized article\n",
    "print(\"Number of sentences in the summarized article:\", summary_sentences)\n"
   ]
  },
  {
   "cell_type": "markdown",
   "metadata": {},
   "source": [
    "10. Create a summary of the article by going through every sentence in the article and adding it to an (initially) empty list if its score (based on lemmas) is greater than the cutoff score you identified in question 8.  If your loop variable is named `sent`, you may find it easier to add `sent.text.strip()` to your list of sentences.  Print the summary (I would cleanly generate the summary text by `join`ing the strings in your list together with a space (`' '.join(sentence_list)`)."
   ]
  },
  {
   "cell_type": "code",
   "execution_count": 29,
   "metadata": {},
   "outputs": [
    {
     "name": "stdout",
     "output_type": "stream",
     "text": [
      "Summary:\n",
      "“We do not have information that the operators were aware of the falsification.” For oil and gas sites that are done extracting oil and gas, the state requires certain reporting as they are plugged and reclaimed. “I recognize that 350 is a large number,\" Murphy said. “I was made aware of this Monday afternoon,” Jason Maxey, Weld County’s Oil and Gas Energy Department Director told 9NEWS. “July probably wouldn't have been appropriate when the ECMC first found out. I'm sure they had some investigation to do as well, but I sure would have hoped it would have been earlier than just the day before.” \n",
      "\n",
      "\n",
      "\n",
      "\n",
      "\n",
      "\n",
      "\n",
      "\n",
      "\n",
      "\n",
      "Maxey and Weld County do not require the same type of reporting that the state requires when an oil and gas site closes. “The range of falsified data is broad,” Murphy said. \"If we determine we can no longer make that assumption, we may need other action and increase resources to change how we do business.\"\n"
     ]
    }
   ],
   "source": [
    "import spacy\n",
    "from textblob import TextBlob\n",
    "import pickle\n",
    "from bs4 import BeautifulSoup\n",
    "\n",
    "# Load the spaCy model for English\n",
    "nlp = spacy.load(\"en_core_web_sm\")\n",
    "\n",
    "# Load the article HTML content\n",
    "file_path = \"article_html.pkl\"\n",
    "with open(file_path, \"rb\") as file:\n",
    "    article_html = pickle.load(file)\n",
    "\n",
    "# Parse with BeautifulSoup and extract text\n",
    "soup = BeautifulSoup(article_html, 'html.parser')\n",
    "text = soup.get_text()\n",
    "\n",
    "# Process the text with spaCy pipeline\n",
    "doc = nlp(text)\n",
    "\n",
    "# Define the cutoff score based on your requirement\n",
    "cutoff_score_lemmas = 0.0\n",
    "\n",
    "# List to store sentences for the summary\n",
    "sentence_list = []\n",
    "\n",
    "# Iterate over each sentence in the text\n",
    "for sent in doc.sents:\n",
    "    # Lemmatize each token in the sentence and join them\n",
    "    lemmatized_sentence = ' '.join([token.lemma_ for token in sent if not token.is_punct and not token.is_stop])\n",
    "    \n",
    "    # Get the sentiment polarity score using TextBlob for lemmatized sentence\n",
    "    blob = TextBlob(lemmatized_sentence)\n",
    "    score = blob.sentiment.polarity\n",
    "    \n",
    "    # If the score is greater than the cutoff score, add it to the summary\n",
    "    if score > cutoff_score_lemmas:\n",
    "        sentence_list.append(sent.text.strip())\n",
    "\n",
    "# Join the sentences together to form the summary\n",
    "summary = ' '.join(sentence_list)\n",
    "\n",
    "# Print the summary\n",
    "print(\"Summary:\")\n",
    "print(summary)\n",
    "\n"
   ]
  },
  {
   "cell_type": "markdown",
   "metadata": {},
   "source": [
    "11. Print the polarity score of your summary you generated with the lemma scores (with an appropriate label). Additionally, print the number of sentences in the summarized article."
   ]
  },
  {
   "cell_type": "code",
   "execution_count": 30,
   "metadata": {},
   "outputs": [
    {
     "name": "stdout",
     "output_type": "stream",
     "text": [
      "\n",
      "Polarity Score of the Summary (based on lemmas): 0.20892857142857146\n",
      "Number of sentences in the summarized article: 8\n"
     ]
    }
   ],
   "source": [
    "import spacy\n",
    "from textblob import TextBlob\n",
    "import pickle\n",
    "from bs4 import BeautifulSoup\n",
    "\n",
    "# Load the spaCy model for English\n",
    "nlp = spacy.load(\"en_core_web_sm\")\n",
    "\n",
    "# Load the article HTML content\n",
    "file_path = \"article_html.pkl\"\n",
    "with open(file_path, \"rb\") as file:\n",
    "    article_html = pickle.load(file)\n",
    "\n",
    "# Parse with BeautifulSoup and extract text\n",
    "soup = BeautifulSoup(article_html, 'html.parser')\n",
    "text = soup.get_text()\n",
    "\n",
    "# Process the text with spaCy pipeline\n",
    "doc = nlp(text)\n",
    "\n",
    "# Define the cutoff score based on your requirement\n",
    "cutoff_score_lemmas = 0.0\n",
    "\n",
    "# List to store sentences for the summary\n",
    "sentence_list = []\n",
    "\n",
    "# Iterate over each sentence in the text\n",
    "for sent in doc.sents:\n",
    "    # Lemmatize each token in the sentence and join them\n",
    "    lemmatized_sentence = ' '.join([token.lemma_ for token in sent if not token.is_punct and not token.is_stop])\n",
    "    \n",
    "    # Get the sentiment polarity score using TextBlob for lemmatized sentence\n",
    "    blob = TextBlob(lemmatized_sentence)\n",
    "    score = blob.sentiment.polarity\n",
    "    \n",
    "    # If the score is greater than the cutoff score, add it to the summary\n",
    "    if score > cutoff_score_lemmas:\n",
    "        sentence_list.append(sent.text.strip())\n",
    "\n",
    "# Join the sentences together to form the summary\n",
    "summary = ' '.join(sentence_list)\n",
    "\n",
    "# Calculate the polarity score of the summary using TextBlob (based on lemmas)\n",
    "summary_blob = TextBlob(summary)\n",
    "summary_polarity = summary_blob.sentiment.polarity\n",
    "\n",
    "# Print the polarity score of the summary (based on lemma sentiment scores)\n",
    "print(\"\\nPolarity Score of the Summary (based on lemmas):\", summary_polarity)\n",
    "\n",
    "# Count the number of sentences in the summary\n",
    "summary_sentences = len(sentence_list)\n",
    "\n",
    "# Print the number of sentences in the summarized article\n",
    "print(\"Number of sentences in the summarized article:\", summary_sentences)\n"
   ]
  },
  {
   "cell_type": "markdown",
   "metadata": {},
   "source": [
    "12.  Compare your polarity scores of your summaries to the polarity scores of the initial article.  Is there a difference?  Why do you think that may or may not be?.  Answer in this Markdown cell.  \n",
    "\n",
    "Original:\n",
    "Polarity Score: 0.023330142080142065\n",
    "The article has a more positive connotation.\n",
    "Number of sentences in the article: 43\n",
    "\n",
    "Token Summary:\n",
    "Polarity Score of the Summary (based on tokens): 0.2186335403726708\n",
    "Number of sentences in the summarized article: 12\n",
    "\n",
    "Lemmas Summary:\n",
    "Polarity Score of the Summary (based on lemmas): 0.20892857142857146\n",
    "Number of sentences in the summarized article: 8\n",
    "\n",
    "There is a significantly more positive tone to the summaries. This is because all sentences with negative sentiment score have been removed. \n",
    "\n"
   ]
  },
  {
   "cell_type": "markdown",
   "metadata": {},
   "source": [
    "13. Based on your reading of the original article, which summary do you think is better (if there's a difference).  Why do you think this might be?\n",
    "\n",
    "There is little difference between the summaries. They use a lot of the same sentences. By the numbers the Token summary is slightly better, and it also has more sentences. "
   ]
  }
 ],
 "metadata": {
  "kernelspec": {
   "display_name": "Python 3",
   "language": "python",
   "name": "python3"
  },
  "language_info": {
   "codemirror_mode": {
    "name": "ipython",
    "version": 3
   },
   "file_extension": ".py",
   "mimetype": "text/x-python",
   "name": "python",
   "nbconvert_exporter": "python",
   "pygments_lexer": "ipython3",
   "version": "3.12.4"
  }
 },
 "nbformat": 4,
 "nbformat_minor": 4
}
